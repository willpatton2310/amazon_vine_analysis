{
  "nbformat": 4,
  "nbformat_minor": 0,
  "metadata": {
    "colab": {
      "name": "Mod_16_challenge.ipynb",
      "provenance": [],
      "collapsed_sections": [],
      "authorship_tag": "ABX9TyPPjx1aA5c7rMv9BIBDN5CA",
      "include_colab_link": true
    },
    "kernelspec": {
      "name": "python3",
      "display_name": "Python 3"
    },
    "language_info": {
      "name": "python"
    }
  },
  "cells": [
    {
      "cell_type": "markdown",
      "metadata": {
        "id": "view-in-github",
        "colab_type": "text"
      },
      "source": [
        "<a href=\"https://colab.research.google.com/github/willpatton2310/amazon_vine_analysis/blob/main/Mod_16_challenge.ipynb\" target=\"_parent\"><img src=\"https://colab.research.google.com/assets/colab-badge.svg\" alt=\"Open In Colab\"/></a>"
      ]
    },
    {
      "cell_type": "code",
      "execution_count": 1,
      "metadata": {
        "colab": {
          "base_uri": "https://localhost:8080/"
        },
        "id": "lrfX8thDxRck",
        "outputId": "e0253da6-53a4-4923-8cd4-868d37783e17"
      },
      "outputs": [
        {
          "output_type": "stream",
          "name": "stdout",
          "text": [
            "Get:1 https://cloud.r-project.org/bin/linux/ubuntu bionic-cran40/ InRelease [3,626 B]\n",
            "Get:2 http://security.ubuntu.com/ubuntu bionic-security InRelease [88.7 kB]\n",
            "Hit:3 http://archive.ubuntu.com/ubuntu bionic InRelease\n",
            "Ign:4 https://developer.download.nvidia.com/compute/machine-learning/repos/ubuntu1804/x86_64  InRelease\n",
            "Get:5 https://developer.download.nvidia.com/compute/cuda/repos/ubuntu1804/x86_64  InRelease [1,581 B]\n",
            "Hit:6 https://developer.download.nvidia.com/compute/machine-learning/repos/ubuntu1804/x86_64  Release\n",
            "Get:7 http://ppa.launchpad.net/c2d4u.team/c2d4u4.0+/ubuntu bionic InRelease [15.9 kB]\n",
            "Get:8 http://archive.ubuntu.com/ubuntu bionic-updates InRelease [88.7 kB]\n",
            "Hit:9 http://ppa.launchpad.net/cran/libgit2/ubuntu bionic InRelease\n",
            "Get:10 http://archive.ubuntu.com/ubuntu bionic-backports InRelease [74.6 kB]\n",
            "Hit:11 http://ppa.launchpad.net/deadsnakes/ppa/ubuntu bionic InRelease\n",
            "Hit:12 http://ppa.launchpad.net/graphics-drivers/ppa/ubuntu bionic InRelease\n",
            "Get:13 https://developer.download.nvidia.com/compute/cuda/repos/ubuntu1804/x86_64  Packages [910 kB]\n",
            "Get:15 http://ppa.launchpad.net/c2d4u.team/c2d4u4.0+/ubuntu bionic/main Sources [2,095 kB]\n",
            "Get:16 http://security.ubuntu.com/ubuntu bionic-security/main amd64 Packages [2,937 kB]\n",
            "Get:17 http://ppa.launchpad.net/c2d4u.team/c2d4u4.0+/ubuntu bionic/main amd64 Packages [1,073 kB]\n",
            "Get:18 http://security.ubuntu.com/ubuntu bionic-security/universe amd64 Packages [1,533 kB]\n",
            "Get:19 http://archive.ubuntu.com/ubuntu bionic-updates/universe amd64 Packages [2,311 kB]\n",
            "Get:20 http://archive.ubuntu.com/ubuntu bionic-updates/main amd64 Packages [3,369 kB]\n",
            "Fetched 14.5 MB in 8s (1,931 kB/s)\n",
            "Reading package lists... Done\n"
          ]
        }
      ],
      "source": [
        "import os\n",
        "# Find the latest version of spark 3.0  from http://www.apache.org/dist/spark/ and enter as the spark version\n",
        "# For example:\n",
        "# spark_version = 'spark-3.0.3'\n",
        "spark_version = 'spark-3.2.2'\n",
        "os.environ['SPARK_VERSION']=spark_version\n",
        "\n",
        "# Install Spark and Java\n",
        "!apt-get update\n",
        "!apt-get install openjdk-11-jdk-headless -qq > /dev/null\n",
        "!wget -q http://www.apache.org/dist/spark/$SPARK_VERSION/$SPARK_VERSION-bin-hadoop2.7.tgz\n",
        "!tar xf $SPARK_VERSION-bin-hadoop2.7.tgz\n",
        "!pip install -q findspark\n",
        "\n",
        "# Set Environment Variables\n",
        "os.environ[\"JAVA_HOME\"] = \"/usr/lib/jvm/java-11-openjdk-amd64\"\n",
        "os.environ[\"SPARK_HOME\"] = f\"/content/{spark_version}-bin-hadoop2.7\"\n",
        "\n",
        "# Start a SparkSession\n",
        "import findspark\n",
        "findspark.init()"
      ]
    },
    {
      "cell_type": "code",
      "source": [
        "# Download the Postgres driver that will allow Spark to interact with Postgres.\n",
        "!wget https://jdbc.postgresql.org/download/postgresql-42.2.16.jar"
      ],
      "metadata": {
        "colab": {
          "base_uri": "https://localhost:8080/"
        },
        "id": "9zP4r7JWxrG_",
        "outputId": "39fdabbc-7378-4c26-be54-675c1eecd600"
      },
      "execution_count": 2,
      "outputs": [
        {
          "output_type": "stream",
          "name": "stdout",
          "text": [
            "--2022-08-19 12:30:14--  https://jdbc.postgresql.org/download/postgresql-42.2.16.jar\n",
            "Resolving jdbc.postgresql.org (jdbc.postgresql.org)... 72.32.157.228, 2001:4800:3e1:1::228\n",
            "Connecting to jdbc.postgresql.org (jdbc.postgresql.org)|72.32.157.228|:443... connected.\n",
            "HTTP request sent, awaiting response... 200 OK\n",
            "Length: 1002883 (979K) [application/java-archive]\n",
            "Saving to: ‘postgresql-42.2.16.jar’\n",
            "\n",
            "postgresql-42.2.16. 100%[===================>] 979.38K  6.21MB/s    in 0.2s    \n",
            "\n",
            "2022-08-19 12:30:14 (6.21 MB/s) - ‘postgresql-42.2.16.jar’ saved [1002883/1002883]\n",
            "\n"
          ]
        }
      ]
    },
    {
      "cell_type": "code",
      "source": [
        "from pyspark.sql import SparkSession\n",
        "spark = SparkSession.builder.appName(\"M16-Amazon-Challenge\").config(\"spark.driver.extraClassPath\",\"/content/postgresql-42.2.16.jar\").getOrCreate()"
      ],
      "metadata": {
        "id": "MUV4jIWDxuxJ"
      },
      "execution_count": 3,
      "outputs": []
    },
    {
      "cell_type": "code",
      "source": [
        "from pyspark import SparkFiles\n",
        "url = \"https://s3.amazonaws.com/amazon-reviews-pds/tsv/amazon_reviews_us_Automotive_v1_00.tsv.gz\"\n",
        "spark.sparkContext.addFile(url)\n",
        "df = spark.read.option(\"encoding\", \"UTF-8\").csv(SparkFiles.get(\"\"), sep=\"\\t\", header=True, inferSchema=True)\n",
        "df.show()"
      ],
      "metadata": {
        "colab": {
          "base_uri": "https://localhost:8080/"
        },
        "id": "jn5eailXxy0g",
        "outputId": "fbe0ec7d-4d11-4489-ad3d-600d2ae66daa"
      },
      "execution_count": 4,
      "outputs": [
        {
          "output_type": "stream",
          "name": "stdout",
          "text": [
            "+-----------+-----------+--------------+----------+--------------+--------------------+----------------+-----------+-------------+-----------+----+-----------------+--------------------+--------------------+-----------+\n",
            "|marketplace|customer_id|     review_id|product_id|product_parent|       product_title|product_category|star_rating|helpful_votes|total_votes|vine|verified_purchase|     review_headline|         review_body|review_date|\n",
            "+-----------+-----------+--------------+----------+--------------+--------------------+----------------+-----------+-------------+-----------+----+-----------------+--------------------+--------------------+-----------+\n",
            "|         US|   36075342| RAB23OVFNCXZQ|B00LPRXQ4Y|     339193102|17\" 2003-2006 For...|      Automotive|          1|            0|          0|   N|                Y|     As it was used,|As it was used, t...| 2015-08-31|\n",
            "|         US|   42462164|R3NORADVJO6IE6|B000C7S0TO|     907684644|Spectra Premium C...|      Automotive|          5|            0|          0|   N|                Y|          Five Stars|Put it in fine, n...| 2015-08-31|\n",
            "|         US|   21241933|R299F4SO98S5OO|B000CO9WE4|     752246352|K&N E-4665 High P...|      Automotive|          5|            1|          1|   N|                Y|Great fit and per...|Fit wonderfully o...| 2015-08-31|\n",
            "|         US|   52570308|R2DA9DOT03UW6I|B000GKD5NI|     105401756|Suncutters Rear W...|      Automotive|          5|            2|          3|   N|                Y|Good for the pric...|Good for the pric...| 2015-08-31|\n",
            "|         US|   38200102|R2OGCH681EQHU6|B009SDA7TE|     728471129|Lug Nuts Landcrui...|      Automotive|          5|            0|          0|   N|                Y|          Five Stars|Fit perfectly on ...| 2015-08-31|\n",
            "|         US|   34866169| R2JMKIC16MHD7|B00KV15KRG|     962286893|Fits 2007-2009 Ho...|      Automotive|          5|            2|          2|   N|                Y|Fit Well and Bett...|Product fits well...| 2015-08-31|\n",
            "|         US|     184627|R1DB5DA7CWWTI8|B0002JMAKW|     267002949|Castrol 12614 Dot...|      Automotive|          5|            0|          0|   N|                Y|convenient, fast ...|convenient ,fast ...| 2015-08-31|\n",
            "|         US|    2975964|R1N8XWFDK4QACP|B00XJKMM6S|     570789093|New Power Window ...|      Automotive|          5|            0|          0|   N|                Y|          Five Stars|             is good| 2015-08-31|\n",
            "|         US|   40946484|R19VFLX6MRU0CX|B000C5CEKC|     389524802|Motorad MGC-791 L...|      Automotive|          5|            0|          0|   N|                Y|GOOD deal.  Great...|wonderful.  if yo...| 2015-08-31|\n",
            "|         US|   12554469| RLTD8YDGTP9PT|B00GD9R2A8|      21425394|Genuine Ford AL3Z...|      Automotive|          1|            0|          0|   N|                Y|Does not fit my F...|Does not work wit...| 2015-08-31|\n",
            "|         US|   35335277| R78B5LCFJ52SR|B00RM327NG|     816815445|Air Vent Smartpho...|      Automotive|          4|            0|          0|   N|                Y|            Not bad!|I really loved th...| 2015-08-31|\n",
            "|         US|   44957003|R33SKWL0HEQIQ9|B0071NL7UQ|     192225755|FDJ New Replaceme...|      Automotive|          5|            0|          0|   N|                Y|          Five Stars| Just what I wanted.| 2015-08-31|\n",
            "|         US|     444125|R1HIOV0UX7P13D|B00DSOL0FY|     849414056|Omix-Ada 17402.09...|      Automotive|          5|            0|          0|   N|                Y|          Five Stars|Great product and...| 2015-08-31|\n",
            "|         US|   35829199| R4WS0E0MSP9DH|B00GRV48TK|     651316983|GMB 530-2480 Fuel...|      Automotive|          5|            2|          2|   N|                Y|           Well made|Appears to be wel...| 2015-08-31|\n",
            "|         US|   16825098| R2RUIDUMDKG7P|B000E4PCGE|     694793259|00-03 NISSAN SENT...|      Automotive|          3|            0|          0|   N|                Y|new and a great l...|Product was as de...| 2015-08-31|\n",
            "|         US|    2583392| RZSA6L4M4D4XA|B005Z8HAUK|     732072782|Slime 40026 2X He...|      Automotive|          5|            0|          0|   N|                Y|          Five Stars|SO much quieter t...| 2015-08-31|\n",
            "|         US|   10127903|R1O3NGQNCFXKR6|B0043AV4NK|     533179941|MegaBrand N1 4\" B...|      Automotive|          5|            0|          0|   N|                Y|              decent|Great for the pri...| 2015-08-31|\n",
            "|         US|   17937309|R2IEM66RCBJ95A|B00CDHD76C|     126169507|Jackly 45-in-One ...|      Automotive|          5|            0|          0|   N|                Y|Nice set of tools...|Nice set of tools...| 2015-08-31|\n",
            "|         US|   17145638|R2BQ9O517KSCP8|B000CF1XO0|     475232737|Bosch 3397118942 ...|      Automotive|          5|            0|          0|   N|                N|          Five Stars|       Everything ok| 2015-08-31|\n",
            "|         US|   32813839|R1KF86427VR7AC|B003VLBPJA|     897802619|Heavy-Duty 15\" Ca...|      Automotive|          3|            0|          0|   N|                Y|         Three Stars|I hope the hooks ...| 2015-08-31|\n",
            "+-----------+-----------+--------------+----------+--------------+--------------------+----------------+-----------+-------------+-----------+----+-----------------+--------------------+--------------------+-----------+\n",
            "only showing top 20 rows\n",
            "\n"
          ]
        }
      ]
    },
    {
      "cell_type": "code",
      "source": [
        "from pyspark.sql.functions import *\n",
        "from pyspark.sql.functions import col\n",
        "from pyspark.sql.types import DateType\n",
        "# Read in the Review dataset as a DataFrame"
      ],
      "metadata": {
        "id": "rJm6_yjjycNm"
      },
      "execution_count": 5,
      "outputs": []
    },
    {
      "cell_type": "code",
      "source": [
        "df.printSchema"
      ],
      "metadata": {
        "colab": {
          "base_uri": "https://localhost:8080/"
        },
        "id": "o4stA5_P-gwk",
        "outputId": "03068b82-7b36-41ec-973d-36acc70122da"
      },
      "execution_count": 6,
      "outputs": [
        {
          "output_type": "execute_result",
          "data": {
            "text/plain": [
              "<bound method DataFrame.printSchema of DataFrame[marketplace: string, customer_id: int, review_id: string, product_id: string, product_parent: int, product_title: string, product_category: string, star_rating: int, helpful_votes: int, total_votes: int, vine: string, verified_purchase: string, review_headline: string, review_body: string, review_date: string]>"
            ]
          },
          "metadata": {},
          "execution_count": 6
        }
      ]
    },
    {
      "cell_type": "code",
      "source": [
        "df2 = df.withColumn('review_date', to_date('review_date').alias('review_date'))\n"
      ],
      "metadata": {
        "id": "qYFIQCBeGt9y"
      },
      "execution_count": 7,
      "outputs": []
    },
    {
      "cell_type": "code",
      "source": [
        "df2.show()"
      ],
      "metadata": {
        "colab": {
          "base_uri": "https://localhost:8080/"
        },
        "id": "xNWlWmq7EYqb",
        "outputId": "3022827d-c45e-41fd-e2bb-84cc419b9300"
      },
      "execution_count": 8,
      "outputs": [
        {
          "output_type": "stream",
          "name": "stdout",
          "text": [
            "+-----------+-----------+--------------+----------+--------------+--------------------+----------------+-----------+-------------+-----------+----+-----------------+--------------------+--------------------+-----------+\n",
            "|marketplace|customer_id|     review_id|product_id|product_parent|       product_title|product_category|star_rating|helpful_votes|total_votes|vine|verified_purchase|     review_headline|         review_body|review_date|\n",
            "+-----------+-----------+--------------+----------+--------------+--------------------+----------------+-----------+-------------+-----------+----+-----------------+--------------------+--------------------+-----------+\n",
            "|         US|   36075342| RAB23OVFNCXZQ|B00LPRXQ4Y|     339193102|17\" 2003-2006 For...|      Automotive|          1|            0|          0|   N|                Y|     As it was used,|As it was used, t...| 2015-08-31|\n",
            "|         US|   42462164|R3NORADVJO6IE6|B000C7S0TO|     907684644|Spectra Premium C...|      Automotive|          5|            0|          0|   N|                Y|          Five Stars|Put it in fine, n...| 2015-08-31|\n",
            "|         US|   21241933|R299F4SO98S5OO|B000CO9WE4|     752246352|K&N E-4665 High P...|      Automotive|          5|            1|          1|   N|                Y|Great fit and per...|Fit wonderfully o...| 2015-08-31|\n",
            "|         US|   52570308|R2DA9DOT03UW6I|B000GKD5NI|     105401756|Suncutters Rear W...|      Automotive|          5|            2|          3|   N|                Y|Good for the pric...|Good for the pric...| 2015-08-31|\n",
            "|         US|   38200102|R2OGCH681EQHU6|B009SDA7TE|     728471129|Lug Nuts Landcrui...|      Automotive|          5|            0|          0|   N|                Y|          Five Stars|Fit perfectly on ...| 2015-08-31|\n",
            "|         US|   34866169| R2JMKIC16MHD7|B00KV15KRG|     962286893|Fits 2007-2009 Ho...|      Automotive|          5|            2|          2|   N|                Y|Fit Well and Bett...|Product fits well...| 2015-08-31|\n",
            "|         US|     184627|R1DB5DA7CWWTI8|B0002JMAKW|     267002949|Castrol 12614 Dot...|      Automotive|          5|            0|          0|   N|                Y|convenient, fast ...|convenient ,fast ...| 2015-08-31|\n",
            "|         US|    2975964|R1N8XWFDK4QACP|B00XJKMM6S|     570789093|New Power Window ...|      Automotive|          5|            0|          0|   N|                Y|          Five Stars|             is good| 2015-08-31|\n",
            "|         US|   40946484|R19VFLX6MRU0CX|B000C5CEKC|     389524802|Motorad MGC-791 L...|      Automotive|          5|            0|          0|   N|                Y|GOOD deal.  Great...|wonderful.  if yo...| 2015-08-31|\n",
            "|         US|   12554469| RLTD8YDGTP9PT|B00GD9R2A8|      21425394|Genuine Ford AL3Z...|      Automotive|          1|            0|          0|   N|                Y|Does not fit my F...|Does not work wit...| 2015-08-31|\n",
            "|         US|   35335277| R78B5LCFJ52SR|B00RM327NG|     816815445|Air Vent Smartpho...|      Automotive|          4|            0|          0|   N|                Y|            Not bad!|I really loved th...| 2015-08-31|\n",
            "|         US|   44957003|R33SKWL0HEQIQ9|B0071NL7UQ|     192225755|FDJ New Replaceme...|      Automotive|          5|            0|          0|   N|                Y|          Five Stars| Just what I wanted.| 2015-08-31|\n",
            "|         US|     444125|R1HIOV0UX7P13D|B00DSOL0FY|     849414056|Omix-Ada 17402.09...|      Automotive|          5|            0|          0|   N|                Y|          Five Stars|Great product and...| 2015-08-31|\n",
            "|         US|   35829199| R4WS0E0MSP9DH|B00GRV48TK|     651316983|GMB 530-2480 Fuel...|      Automotive|          5|            2|          2|   N|                Y|           Well made|Appears to be wel...| 2015-08-31|\n",
            "|         US|   16825098| R2RUIDUMDKG7P|B000E4PCGE|     694793259|00-03 NISSAN SENT...|      Automotive|          3|            0|          0|   N|                Y|new and a great l...|Product was as de...| 2015-08-31|\n",
            "|         US|    2583392| RZSA6L4M4D4XA|B005Z8HAUK|     732072782|Slime 40026 2X He...|      Automotive|          5|            0|          0|   N|                Y|          Five Stars|SO much quieter t...| 2015-08-31|\n",
            "|         US|   10127903|R1O3NGQNCFXKR6|B0043AV4NK|     533179941|MegaBrand N1 4\" B...|      Automotive|          5|            0|          0|   N|                Y|              decent|Great for the pri...| 2015-08-31|\n",
            "|         US|   17937309|R2IEM66RCBJ95A|B00CDHD76C|     126169507|Jackly 45-in-One ...|      Automotive|          5|            0|          0|   N|                Y|Nice set of tools...|Nice set of tools...| 2015-08-31|\n",
            "|         US|   17145638|R2BQ9O517KSCP8|B000CF1XO0|     475232737|Bosch 3397118942 ...|      Automotive|          5|            0|          0|   N|                N|          Five Stars|       Everything ok| 2015-08-31|\n",
            "|         US|   32813839|R1KF86427VR7AC|B003VLBPJA|     897802619|Heavy-Duty 15\" Ca...|      Automotive|          3|            0|          0|   N|                Y|         Three Stars|I hope the hooks ...| 2015-08-31|\n",
            "+-----------+-----------+--------------+----------+--------------+--------------------+----------------+-----------+-------------+-----------+----+-----------------+--------------------+--------------------+-----------+\n",
            "only showing top 20 rows\n",
            "\n"
          ]
        }
      ]
    },
    {
      "cell_type": "code",
      "source": [
        "df2.printSchema"
      ],
      "metadata": {
        "colab": {
          "base_uri": "https://localhost:8080/"
        },
        "id": "rKal86QePyG4",
        "outputId": "1333081d-5355-4c7c-ee56-93727a655d80"
      },
      "execution_count": 9,
      "outputs": [
        {
          "output_type": "execute_result",
          "data": {
            "text/plain": [
              "<bound method DataFrame.printSchema of DataFrame[marketplace: string, customer_id: int, review_id: string, product_id: string, product_parent: int, product_title: string, product_category: string, star_rating: int, helpful_votes: int, total_votes: int, vine: string, verified_purchase: string, review_headline: string, review_body: string, review_date: date]>"
            ]
          },
          "metadata": {},
          "execution_count": 9
        }
      ]
    },
    {
      "cell_type": "code",
      "source": [
        "customer_count_df = df2.groupBy('customer_id').count()\n",
        "customer_count_df = customer_count_df.withColumnRenamed('count','customer_count')\n",
        "customer_count_df = customer_count_df.dropna()\n",
        "customer_count_df.show()"
      ],
      "metadata": {
        "colab": {
          "base_uri": "https://localhost:8080/"
        },
        "id": "ByK5LORszoS9",
        "outputId": "652c2bec-cd6f-4adc-bc86-665bc579f432"
      },
      "execution_count": 10,
      "outputs": [
        {
          "output_type": "stream",
          "name": "stdout",
          "text": [
            "+-----------+--------------+\n",
            "|customer_id|customer_count|\n",
            "+-----------+--------------+\n",
            "|   28258386|             3|\n",
            "|   18634862|             3|\n",
            "|    2072312|             3|\n",
            "|   33132797|            15|\n",
            "|   14539137|             1|\n",
            "|   14552054|             5|\n",
            "|    9347763|             1|\n",
            "|   43626894|             2|\n",
            "|   27314089|            47|\n",
            "|   36829268|             1|\n",
            "|   24540309|             2|\n",
            "|    8501205|             1|\n",
            "|    4361670|             2|\n",
            "|   30416085|             2|\n",
            "|    8306731|             1|\n",
            "|   11491871|             1|\n",
            "|   46406103|             1|\n",
            "|   18417791|             1|\n",
            "|   51299913|             1|\n",
            "|   20587872|             4|\n",
            "+-----------+--------------+\n",
            "only showing top 20 rows\n",
            "\n"
          ]
        }
      ]
    },
    {
      "cell_type": "code",
      "source": [
        "products_table_df = df2.select(['product_id', 'product_title'])\n",
        "products_table_df = products_table_df.dropna()\n",
        "products_table_df.show()"
      ],
      "metadata": {
        "colab": {
          "base_uri": "https://localhost:8080/"
        },
        "id": "3z6-ij-z3xYA",
        "outputId": "dbad54ee-3b4b-4067-a31d-5718d016a218"
      },
      "execution_count": 11,
      "outputs": [
        {
          "output_type": "stream",
          "name": "stdout",
          "text": [
            "+----------+--------------------+\n",
            "|product_id|       product_title|\n",
            "+----------+--------------------+\n",
            "|B00LPRXQ4Y|17\" 2003-2006 For...|\n",
            "|B000C7S0TO|Spectra Premium C...|\n",
            "|B000CO9WE4|K&N E-4665 High P...|\n",
            "|B000GKD5NI|Suncutters Rear W...|\n",
            "|B009SDA7TE|Lug Nuts Landcrui...|\n",
            "|B00KV15KRG|Fits 2007-2009 Ho...|\n",
            "|B0002JMAKW|Castrol 12614 Dot...|\n",
            "|B00XJKMM6S|New Power Window ...|\n",
            "|B000C5CEKC|Motorad MGC-791 L...|\n",
            "|B00GD9R2A8|Genuine Ford AL3Z...|\n",
            "|B00RM327NG|Air Vent Smartpho...|\n",
            "|B0071NL7UQ|FDJ New Replaceme...|\n",
            "|B00DSOL0FY|Omix-Ada 17402.09...|\n",
            "|B00GRV48TK|GMB 530-2480 Fuel...|\n",
            "|B000E4PCGE|00-03 NISSAN SENT...|\n",
            "|B005Z8HAUK|Slime 40026 2X He...|\n",
            "|B0043AV4NK|MegaBrand N1 4\" B...|\n",
            "|B00CDHD76C|Jackly 45-in-One ...|\n",
            "|B000CF1XO0|Bosch 3397118942 ...|\n",
            "|B003VLBPJA|Heavy-Duty 15\" Ca...|\n",
            "+----------+--------------------+\n",
            "only showing top 20 rows\n",
            "\n"
          ]
        }
      ]
    },
    {
      "cell_type": "code",
      "source": [
        "review_id_df = df2.select(['review_id', 'customer_id', 'product_id', 'product_parent', 'review_date'])\n",
        "review_id_df = review_id_df.dropna()\n",
        "review_id_df.show()"
      ],
      "metadata": {
        "colab": {
          "base_uri": "https://localhost:8080/"
        },
        "id": "3fSDAwp59XCb",
        "outputId": "c1d4f71b-c200-41e9-f26f-5760c5ab0d9b"
      },
      "execution_count": 12,
      "outputs": [
        {
          "output_type": "stream",
          "name": "stdout",
          "text": [
            "+--------------+-----------+----------+--------------+-----------+\n",
            "|     review_id|customer_id|product_id|product_parent|review_date|\n",
            "+--------------+-----------+----------+--------------+-----------+\n",
            "| RAB23OVFNCXZQ|   36075342|B00LPRXQ4Y|     339193102| 2015-08-31|\n",
            "|R3NORADVJO6IE6|   42462164|B000C7S0TO|     907684644| 2015-08-31|\n",
            "|R299F4SO98S5OO|   21241933|B000CO9WE4|     752246352| 2015-08-31|\n",
            "|R2DA9DOT03UW6I|   52570308|B000GKD5NI|     105401756| 2015-08-31|\n",
            "|R2OGCH681EQHU6|   38200102|B009SDA7TE|     728471129| 2015-08-31|\n",
            "| R2JMKIC16MHD7|   34866169|B00KV15KRG|     962286893| 2015-08-31|\n",
            "|R1DB5DA7CWWTI8|     184627|B0002JMAKW|     267002949| 2015-08-31|\n",
            "|R1N8XWFDK4QACP|    2975964|B00XJKMM6S|     570789093| 2015-08-31|\n",
            "|R19VFLX6MRU0CX|   40946484|B000C5CEKC|     389524802| 2015-08-31|\n",
            "| RLTD8YDGTP9PT|   12554469|B00GD9R2A8|      21425394| 2015-08-31|\n",
            "| R78B5LCFJ52SR|   35335277|B00RM327NG|     816815445| 2015-08-31|\n",
            "|R33SKWL0HEQIQ9|   44957003|B0071NL7UQ|     192225755| 2015-08-31|\n",
            "|R1HIOV0UX7P13D|     444125|B00DSOL0FY|     849414056| 2015-08-31|\n",
            "| R4WS0E0MSP9DH|   35829199|B00GRV48TK|     651316983| 2015-08-31|\n",
            "| R2RUIDUMDKG7P|   16825098|B000E4PCGE|     694793259| 2015-08-31|\n",
            "| RZSA6L4M4D4XA|    2583392|B005Z8HAUK|     732072782| 2015-08-31|\n",
            "|R1O3NGQNCFXKR6|   10127903|B0043AV4NK|     533179941| 2015-08-31|\n",
            "|R2IEM66RCBJ95A|   17937309|B00CDHD76C|     126169507| 2015-08-31|\n",
            "|R2BQ9O517KSCP8|   17145638|B000CF1XO0|     475232737| 2015-08-31|\n",
            "|R1KF86427VR7AC|   32813839|B003VLBPJA|     897802619| 2015-08-31|\n",
            "+--------------+-----------+----------+--------------+-----------+\n",
            "only showing top 20 rows\n",
            "\n"
          ]
        }
      ]
    },
    {
      "cell_type": "code",
      "source": [
        "vine_df = df2.select(['review_id', 'star_rating', 'helpful_votes', 'total_votes', 'vine', 'verified_purchase'])\n",
        "vine_df = vine_df.dropna()\n",
        "vine_df.show()"
      ],
      "metadata": {
        "colab": {
          "base_uri": "https://localhost:8080/"
        },
        "id": "yENYgr883xQf",
        "outputId": "cb8019c3-4572-4dac-8de5-69efba13d6a8"
      },
      "execution_count": 13,
      "outputs": [
        {
          "output_type": "stream",
          "name": "stdout",
          "text": [
            "+--------------+-----------+-------------+-----------+----+-----------------+\n",
            "|     review_id|star_rating|helpful_votes|total_votes|vine|verified_purchase|\n",
            "+--------------+-----------+-------------+-----------+----+-----------------+\n",
            "| RAB23OVFNCXZQ|          1|            0|          0|   N|                Y|\n",
            "|R3NORADVJO6IE6|          5|            0|          0|   N|                Y|\n",
            "|R299F4SO98S5OO|          5|            1|          1|   N|                Y|\n",
            "|R2DA9DOT03UW6I|          5|            2|          3|   N|                Y|\n",
            "|R2OGCH681EQHU6|          5|            0|          0|   N|                Y|\n",
            "| R2JMKIC16MHD7|          5|            2|          2|   N|                Y|\n",
            "|R1DB5DA7CWWTI8|          5|            0|          0|   N|                Y|\n",
            "|R1N8XWFDK4QACP|          5|            0|          0|   N|                Y|\n",
            "|R19VFLX6MRU0CX|          5|            0|          0|   N|                Y|\n",
            "| RLTD8YDGTP9PT|          1|            0|          0|   N|                Y|\n",
            "| R78B5LCFJ52SR|          4|            0|          0|   N|                Y|\n",
            "|R33SKWL0HEQIQ9|          5|            0|          0|   N|                Y|\n",
            "|R1HIOV0UX7P13D|          5|            0|          0|   N|                Y|\n",
            "| R4WS0E0MSP9DH|          5|            2|          2|   N|                Y|\n",
            "| R2RUIDUMDKG7P|          3|            0|          0|   N|                Y|\n",
            "| RZSA6L4M4D4XA|          5|            0|          0|   N|                Y|\n",
            "|R1O3NGQNCFXKR6|          5|            0|          0|   N|                Y|\n",
            "|R2IEM66RCBJ95A|          5|            0|          0|   N|                Y|\n",
            "|R2BQ9O517KSCP8|          5|            0|          0|   N|                N|\n",
            "|R1KF86427VR7AC|          3|            0|          0|   N|                Y|\n",
            "+--------------+-----------+-------------+-----------+----+-----------------+\n",
            "only showing top 20 rows\n",
            "\n"
          ]
        }
      ]
    },
    {
      "cell_type": "code",
      "source": [
        "# Store environmental variable\n",
        "from getpass import getpass\n",
        "password = getpass('Enter database password')\n",
        "# Configure settings for RDS\n",
        "mode = \"append\"\n",
        "jdbc_url=\"jdbc:postgresql://dataviz.cw1mrnxoricf.us-east-1.rds.amazonaws.com:5432/mod_16_chall\"\n",
        "config = {\"user\":\"postgres\",\n",
        "          \"password\": password,\n",
        "          \"driver\":\"org.postgresql.Driver\"}"
      ],
      "metadata": {
        "colab": {
          "base_uri": "https://localhost:8080/"
        },
        "id": "glZTAP2kBISa",
        "outputId": "769ad0f7-2c7b-49f8-cd35-1ae536737586"
      },
      "execution_count": 14,
      "outputs": [
        {
          "name": "stdout",
          "output_type": "stream",
          "text": [
            "Enter database password··········\n"
          ]
        }
      ]
    },
    {
      "cell_type": "code",
      "source": [
        "# review_id_df.write.jdbc(url=jdbc_url, table='review_id_table', mode=mode, properties=config)"
      ],
      "metadata": {
        "id": "lzB89GM8BTrk"
      },
      "execution_count": 15,
      "outputs": []
    },
    {
      "cell_type": "code",
      "source": [
        "# customer_count_df.write.jdbc(url=jdbc_url, table='customers_table', mode=mode, properties=config)"
      ],
      "metadata": {
        "id": "trYMoKZnVmAj"
      },
      "execution_count": 16,
      "outputs": []
    },
    {
      "cell_type": "code",
      "source": [
        "# products_table_df.write.jdbc(url=jdbc_url, table='products_table', mode=mode, properties=config)"
      ],
      "metadata": {
        "id": "mAQRBsEWWjLX"
      },
      "execution_count": 19,
      "outputs": []
    },
    {
      "cell_type": "code",
      "source": [
        "# vine_df.write.jdbc(url=jdbc_url, table='vine_table', mode=mode, properties=config)\n"
      ],
      "metadata": {
        "id": "t_MrBm-WWtFe"
      },
      "execution_count": null,
      "outputs": []
    },
    {
      "cell_type": "code",
      "source": [
        "over_20_df = df2.filter(\"total_votes>20\")\n",
        "over_20_df.show()"
      ],
      "metadata": {
        "colab": {
          "base_uri": "https://localhost:8080/"
        },
        "id": "VSTpeXI4UY_B",
        "outputId": "668ee2af-e3d0-4bd3-acbc-6cfcad36bdf7"
      },
      "execution_count": 20,
      "outputs": [
        {
          "output_type": "stream",
          "name": "stdout",
          "text": [
            "+-----------+-----------+--------------+----------+--------------+--------------------+----------------+-----------+-------------+-----------+----+-----------------+--------------------+--------------------+-----------+\n",
            "|marketplace|customer_id|     review_id|product_id|product_parent|       product_title|product_category|star_rating|helpful_votes|total_votes|vine|verified_purchase|     review_headline|         review_body|review_date|\n",
            "+-----------+-----------+--------------+----------+--------------+--------------------+----------------+-----------+-------------+-----------+----+-----------------+--------------------+--------------------+-----------+\n",
            "|         US|   36886257|R1T4FVSABO0IDP|B00V03D9KY|     966609438|Lukas Lk-7950 WD ...|      Automotive|          5|            8|         31|   N|                Y|      Great Value!!!|LK-7950 is an out...| 2015-08-31|\n",
            "|         US|   21035025|R397VXR1GAK6C9|B00IS941D2|     373170065|EAG 07-17 Jeep Wr...|      Automotive|          5|           21|         21|   N|                Y|Awesome bumper. I...|Awesome bumper. I...| 2015-08-31|\n",
            "|         US|   11359139|R2H6KB9RHS17GA|B00VNBDWPK|     790984844|OPT7 Fluxbeam LED...|      Automotive|          3|           59|         69|   N|                Y|Great bulb with a...|These bulbs are g...| 2015-08-31|\n",
            "|         US|   30634293|R3HAK0MUN9F5IT|B00UW4DLJ6|     591002423|Brightech - SCORP...|      Automotive|          1|            6|         28|   N|                Y|            One Star|Sparks flew out o...| 2015-08-31|\n",
            "|         US|   43577705|R29UTZTOPUVRSV|B0101SLT5U|     735754927|Crystal Bling Car...|      Automotive|          5|           21|         21|   N|                Y|             LOVE IT|I absolutely LOVE...| 2015-08-31|\n",
            "|         US|   11599061| RY9FLUD8VG6XD|B009W85R4A|     415177022|Full Size Truck B...|      Automotive|          4|           27|         32|   N|                Y|Fits my 2000 Chev...|Fits my 2000 Chev...| 2015-08-31|\n",
            "|         US|   14562622|R3Q5NAY8BGAKHI|B000GQA8DC|     228692727|Rampage Jeep 3922...|      Automotive|          5|           34|         40|   N|                Y|          Five Stars|            Love it!| 2015-08-31|\n",
            "|         US|   52600055| RRVJ7TYDEK7EO|B002G3OG6S|     845275995|Bosch Aerotwin 33...|      Automotive|          5|           30|         30|   N|                Y|Is the the right ...|These wipers fit ...| 2015-08-31|\n",
            "|         US|   47664434|R1JNALJ77OULPH|B00G620ZVU|     838834695|Nilight Driving F...|      Automotive|          4|           57|         65|   N|                Y|So far so good, b...|These lights look...| 2015-08-31|\n",
            "|         US|   47900707|R2V9VX4YQ8TQ24|B00BD4YH24|     618386404|OxGord Flat Cloth...|      Automotive|          5|           33|         36|   N|                Y|          Five Stars|       They are nice| 2015-08-31|\n",
            "|         US|   47501591|R2UCJ0GANHZVA8|B00B5LMAVA|     567135917|Chevy Camaro Arti...|      Automotive|          5|           21|         21|   N|                Y|           Awesome !|After seeing posi...| 2015-08-31|\n",
            "|         US|    3910488| R8MJZ3925MBK0|B0002TDUW4|     729831922|Herculiner HCL1B8...|      Automotive|          5|           96|         98|   N|                Y|Excellent Bed Liner!|I am really impre...| 2015-08-31|\n",
            "|         US|   10194150|R378YNR0LMM3DP|B00QJRYMFC|     439690883|LELink Bluetooth ...|      Automotive|          2|           41|         47|   N|                Y|It Works Ok - But...|I read all the re...| 2015-08-31|\n",
            "|         US|    1772089|R2UIEYEJPJC9EM|B011DFTJTI|     774725118|PCC Motor DB40A 5...|      Automotive|          5|           64|         70|   N|                N|          Five Stars|It's comes assemb...| 2015-08-31|\n",
            "|         US|   19025823| RX2K8ERZ5BENR|B00FH8P1DG|     533775870|Tenviii 42\" Inch ...|      Automotive|          5|           52|         56|   N|                Y|At this price, I ...|I think I bought ...| 2015-08-31|\n",
            "|         US|   20612348|R34VOML4JURU4E|B00NHBYOA6|     615708329|Wagan (EL6224) 12...|      Automotive|          1|           34|         35|   N|                Y|Cooler fails with...|The cooler worked...| 2015-08-31|\n",
            "|         US|   43075752|R21FPJN76XM6J8|B00T62RK1U|     939339824|Auxbeam LED Light...|      Automotive|          3|           43|         52|   N|                Y|THESE ARE NOT AUX...|I bought these pa...| 2015-08-30|\n",
            "|         US|     121940|R1YMR7QJ7OR3DE|B00WFHYZE8|     441278164|Innovative Perfor...|      Automotive|          1|           21|         22|   N|                Y|I have had this p...|I have had this p...| 2015-08-30|\n",
            "|         US|    4050502|R27LWEYQI4WQB1|B00WFIK208|     540116467|Innovative Perfor...|      Automotive|          5|            8|         29|   N|                Y|... gas nearly a ...|Once I installed ...| 2015-08-30|\n",
            "|         US|   12028828|R104OMNNT1A7HJ|B0002LBGX2|      95530996|P21S Concours Car...|      Automotive|          5|           20|         24|   N|                Y|      Love This Wax!|it goes on so eas...| 2015-08-30|\n",
            "+-----------+-----------+--------------+----------+--------------+--------------------+----------------+-----------+-------------+-----------+----+-----------------+--------------------+--------------------+-----------+\n",
            "only showing top 20 rows\n",
            "\n"
          ]
        }
      ]
    },
    {
      "cell_type": "code",
      "source": [
        "from pyspark.sql.types import FloatType"
      ],
      "metadata": {
        "id": "Cg_-qHQCXC1v"
      },
      "execution_count": 25,
      "outputs": []
    },
    {
      "cell_type": "code",
      "source": [
        "over_20_df = over_20_df.withColumn(\"helpful_votes\",over_20_df[\"helpful_votes\"].cast(FloatType()))\n",
        "over_20_df = over_20_df.withColumn(\"total_votes\",over_20_df[\"total_votes\"].cast(FloatType()))\n",
        "over_20_df.printSchema"
      ],
      "metadata": {
        "colab": {
          "base_uri": "https://localhost:8080/"
        },
        "id": "a3HxEJYKU-j-",
        "outputId": "1c6672fb-e2e0-4d36-f30b-8d1b453f1752"
      },
      "execution_count": 33,
      "outputs": [
        {
          "output_type": "execute_result",
          "data": {
            "text/plain": [
              "<bound method DataFrame.printSchema of DataFrame[marketplace: string, customer_id: int, review_id: string, product_id: string, product_parent: int, product_title: string, product_category: string, star_rating: int, helpful_votes: float, total_votes: float, vine: string, verified_purchase: string, review_headline: string, review_body: string, review_date: date]>"
            ]
          },
          "metadata": {},
          "execution_count": 33
        }
      ]
    },
    {
      "cell_type": "code",
      "source": [
        "filtered_df = over_20_df.filter(over_20_df[\"helpful_votes\"] / over_20_df[\"total_votes\"] > 0.5)\n",
        "filtered_df.show()"
      ],
      "metadata": {
        "colab": {
          "base_uri": "https://localhost:8080/"
        },
        "id": "Rn8A1MNJYBZ1",
        "outputId": "f070fa0b-b812-4223-9c7d-d4e77232b6a4"
      },
      "execution_count": 35,
      "outputs": [
        {
          "output_type": "stream",
          "name": "stdout",
          "text": [
            "+-----------+-----------+--------------+----------+--------------+--------------------+----------------+-----------+-------------+-----------+----+-----------------+--------------------+--------------------+-----------+\n",
            "|marketplace|customer_id|     review_id|product_id|product_parent|       product_title|product_category|star_rating|helpful_votes|total_votes|vine|verified_purchase|     review_headline|         review_body|review_date|\n",
            "+-----------+-----------+--------------+----------+--------------+--------------------+----------------+-----------+-------------+-----------+----+-----------------+--------------------+--------------------+-----------+\n",
            "|         US|   21035025|R397VXR1GAK6C9|B00IS941D2|     373170065|EAG 07-17 Jeep Wr...|      Automotive|          5|         21.0|       21.0|   N|                Y|Awesome bumper. I...|Awesome bumper. I...| 2015-08-31|\n",
            "|         US|   11359139|R2H6KB9RHS17GA|B00VNBDWPK|     790984844|OPT7 Fluxbeam LED...|      Automotive|          3|         59.0|       69.0|   N|                Y|Great bulb with a...|These bulbs are g...| 2015-08-31|\n",
            "|         US|   43577705|R29UTZTOPUVRSV|B0101SLT5U|     735754927|Crystal Bling Car...|      Automotive|          5|         21.0|       21.0|   N|                Y|             LOVE IT|I absolutely LOVE...| 2015-08-31|\n",
            "|         US|   11599061| RY9FLUD8VG6XD|B009W85R4A|     415177022|Full Size Truck B...|      Automotive|          4|         27.0|       32.0|   N|                Y|Fits my 2000 Chev...|Fits my 2000 Chev...| 2015-08-31|\n",
            "|         US|   14562622|R3Q5NAY8BGAKHI|B000GQA8DC|     228692727|Rampage Jeep 3922...|      Automotive|          5|         34.0|       40.0|   N|                Y|          Five Stars|            Love it!| 2015-08-31|\n",
            "|         US|   52600055| RRVJ7TYDEK7EO|B002G3OG6S|     845275995|Bosch Aerotwin 33...|      Automotive|          5|         30.0|       30.0|   N|                Y|Is the the right ...|These wipers fit ...| 2015-08-31|\n",
            "|         US|   47664434|R1JNALJ77OULPH|B00G620ZVU|     838834695|Nilight Driving F...|      Automotive|          4|         57.0|       65.0|   N|                Y|So far so good, b...|These lights look...| 2015-08-31|\n",
            "|         US|   47900707|R2V9VX4YQ8TQ24|B00BD4YH24|     618386404|OxGord Flat Cloth...|      Automotive|          5|         33.0|       36.0|   N|                Y|          Five Stars|       They are nice| 2015-08-31|\n",
            "|         US|   47501591|R2UCJ0GANHZVA8|B00B5LMAVA|     567135917|Chevy Camaro Arti...|      Automotive|          5|         21.0|       21.0|   N|                Y|           Awesome !|After seeing posi...| 2015-08-31|\n",
            "|         US|    3910488| R8MJZ3925MBK0|B0002TDUW4|     729831922|Herculiner HCL1B8...|      Automotive|          5|         96.0|       98.0|   N|                Y|Excellent Bed Liner!|I am really impre...| 2015-08-31|\n",
            "|         US|   10194150|R378YNR0LMM3DP|B00QJRYMFC|     439690883|LELink Bluetooth ...|      Automotive|          2|         41.0|       47.0|   N|                Y|It Works Ok - But...|I read all the re...| 2015-08-31|\n",
            "|         US|    1772089|R2UIEYEJPJC9EM|B011DFTJTI|     774725118|PCC Motor DB40A 5...|      Automotive|          5|         64.0|       70.0|   N|                N|          Five Stars|It's comes assemb...| 2015-08-31|\n",
            "|         US|   19025823| RX2K8ERZ5BENR|B00FH8P1DG|     533775870|Tenviii 42\" Inch ...|      Automotive|          5|         52.0|       56.0|   N|                Y|At this price, I ...|I think I bought ...| 2015-08-31|\n",
            "|         US|   20612348|R34VOML4JURU4E|B00NHBYOA6|     615708329|Wagan (EL6224) 12...|      Automotive|          1|         34.0|       35.0|   N|                Y|Cooler fails with...|The cooler worked...| 2015-08-31|\n",
            "|         US|   43075752|R21FPJN76XM6J8|B00T62RK1U|     939339824|Auxbeam LED Light...|      Automotive|          3|         43.0|       52.0|   N|                Y|THESE ARE NOT AUX...|I bought these pa...| 2015-08-30|\n",
            "|         US|     121940|R1YMR7QJ7OR3DE|B00WFHYZE8|     441278164|Innovative Perfor...|      Automotive|          1|         21.0|       22.0|   N|                Y|I have had this p...|I have had this p...| 2015-08-30|\n",
            "|         US|   12028828|R104OMNNT1A7HJ|B0002LBGX2|      95530996|P21S Concours Car...|      Automotive|          5|         20.0|       24.0|   N|                Y|      Love This Wax!|it goes on so eas...| 2015-08-30|\n",
            "|         US|   45509857|R3UDL3YQDQ9O69|B004LEYIQ8|     449492475|Motul 007250 8100...|      Automotive|          5|         22.0|       23.0|   N|                Y|Great oil!  Less ...|I have a 2011 Aud...| 2015-08-30|\n",
            "|         US|   40009891| RZIKUWBLDQZWP|B00OPEFKBQ|     797882187|iJDMTOY (2) Even ...|      Automotive|          2|         27.0|       29.0|   N|                Y|Some LEDs failed ...|After installing ...| 2015-08-30|\n",
            "|         US|   23964011| R8X31B3X14N2V|B00IS93EW6|     175227683|E-Autogrilles 97-...|      Automotive|          1|         28.0|       45.0|   N|                Y|           beware...|These fenders are...| 2015-08-30|\n",
            "+-----------+-----------+--------------+----------+--------------+--------------------+----------------+-----------+-------------+-----------+----+-----------------+--------------------+--------------------+-----------+\n",
            "only showing top 20 rows\n",
            "\n"
          ]
        }
      ]
    },
    {
      "cell_type": "code",
      "source": [
        "yes_vine_df = filtered_df.filter(filtered_df[\"vine\"] == \"Y\")\n",
        "yes_vine_df.show()"
      ],
      "metadata": {
        "colab": {
          "base_uri": "https://localhost:8080/"
        },
        "id": "sqs2uNLMY_kZ",
        "outputId": "f5958553-af3a-4003-ef07-4dca0bdcacae"
      },
      "execution_count": 38,
      "outputs": [
        {
          "output_type": "stream",
          "name": "stdout",
          "text": [
            "+-----------+-----------+--------------+----------+--------------+--------------------+----------------+-----------+-------------+-----------+----+-----------------+--------------------+--------------------+-----------+\n",
            "|marketplace|customer_id|     review_id|product_id|product_parent|       product_title|product_category|star_rating|helpful_votes|total_votes|vine|verified_purchase|     review_headline|         review_body|review_date|\n",
            "+-----------+-----------+--------------+----------+--------------+--------------------+----------------+-----------+-------------+-----------+----+-----------------+--------------------+--------------------+-----------+\n",
            "|         US|   35560012| REKN4PLM5174P|B00P9OF04I|      44916596|Meguiar's Heavy D...|      Automotive|          4|        219.0|      225.0|   Y|                N|Head 2 Head, It's...|Having come into ...| 2015-07-08|\n",
            "|         US|   52693410| RQOG8IIJX7CKB|B00P9OF04I|      44916596|Meguiar's Heavy D...|      Automotive|          4|         21.0|       27.0|   Y|                N|it cleans well en...|After nearly 8 an...| 2015-05-06|\n",
            "|         US|   51881294|R33EJ9PSZR13CM|B00PA2LMVY|     752637486|Griot's Garage 10...|      Automotive|          4|         26.0|       30.0|   Y|                N|Griot's Garage Br...|I decided to do a...| 2015-04-10|\n",
            "|         US|   42466433|R37GSXLA11XF8N|B001TFE38A|     251522966|Chemical Guys (WA...|      Automotive|          5|         30.0|       34.0|   Y|                N|An exceptional pr...|As a youth I had ...| 2014-12-31|\n",
            "|         US|   51302590|R2YE4F9ESKFWEK|B00MBPLPOC|     905487198|Wipe New TRTLKIT ...|      Automotive|          3|         20.0|       23.0|   Y|                N|After Shining my ...|Wipe New Tires is...| 2014-11-22|\n",
            "|         US|   50738297|R1E4L7HHB8TBP9|B00G8WLT7C|     926772123|NOCO 12V Plug Soc...|      Automotive|          4|         80.0|       92.0|   Y|                N|High quality prod...|The NOCO GC020 12...| 2014-11-11|\n",
            "|         US|   44012949|R2C2WXDXMZL005|B00K889FCI|     929965227|Wipe New HDL6PCMT...|      Automotive|          2|         20.0|       25.0|   Y|                N|Deceptively descr...|As others have me...| 2014-11-11|\n",
            "|         US|   45164643|R1PPY4U0K03KTE|B00IOBSXQ0|     599686141|Turtle Wax T-12KT...|      Automotive|          5|         31.0|       38.0|   Y|                N|...And Turtle Wax...|...And Turtle Wax...| 2014-09-29|\n",
            "|         US|   49442099|R12SMR88Q45MWQ|B00MB0CTBU|     894850343|Bell Automotive 2...|      Automotive|          3|         23.0|       24.0|   Y|                N|Ok up to 30 pound...|Out of the box I ...| 2014-09-15|\n",
            "|         US|   45515977|R188VWFDBDWRR0|B00GZHC0FU|     219410268|GE Nighthawk Xeno...|      Automotive|          4|         35.0|       38.0|   Y|                N|I was skeptical o...|[[VIDEOID:mo30FRK...| 2014-09-08|\n",
            "|         US|   49869778| RUE8J5M74KJUP|B00HH1IFRA|     874548923|Innova 3211 QUICK...|      Automotive|          1|         37.0|       42.0|   Y|                N|Innova's 'Crack T...|For the record, I...| 2014-07-30|\n",
            "|         US|   51003421|R3IMZIN7Y64IP1|B00HH1IFRA|     874548923|Innova 3211 QUICK...|      Automotive|          1|         19.0|       23.0|   Y|                N|Requires register...|Useless. I have b...| 2014-07-25|\n",
            "|         US|   49346733|R17RGR2YSZ5UDG|B00EVY344K|     414523282|AmazonBasics Dryi...|      Automotive|          4|         19.0|       24.0|   Y|                N|Classic style dry...|Prior to the adve...| 2014-06-02|\n",
            "|         US|   35360512|R2SBNSIBLPIIG6|B00EVY2SKG|      40091168|AmazonBasics Thic...|      Automotive|          4|         47.0|       53.0|   Y|                N|Another winner fr...|AmazonBasics does...| 2014-05-24|\n",
            "|         US|   25602932|R197MLUGNBO8SK|B00HJ6O4A0|     578982215|Camco Striped Han...|      Automotive|          5|         24.0|       29.0|   Y|                N|Much bigger than ...|This is a nice lo...| 2014-05-23|\n",
            "|         US|   24434209|R21QBM40D91D00|B00HJ6O4A0|     578982215|Camco Striped Han...|      Automotive|          3|         18.0|       25.0|   Y|                N|           It's Okay|The handy mat can...| 2014-05-15|\n",
            "|         US|   45984063|R1Z5U87WQ4LVJG|B00HJ6O4A0|     578982215|Camco Striped Han...|      Automotive|          4|         89.0|      101.0|   Y|                N|It works, better ...|I thought we woul...| 2014-05-15|\n",
            "|         US|   52755608| RAT9CVRLRHXQZ|B00EVY2SKG|      40091168|AmazonBasics Thic...|      Automotive|          5|         50.0|       54.0|   Y|                N|    Excellent cloths|AmazonBasics Thic...| 2014-05-07|\n",
            "|         US|   53064080|R2IZYYX6U9MKVI|B00IUE5OPO|     952541420|Griot's Garage Bu...|      Automotive|          4|         23.0|       25.0|   Y|                N|as good as the be...|Let me start by s...| 2014-04-25|\n",
            "|         US|   49908662|R2PRVPQ6RQM6ES|B00FDQPCR2|     981681791|Sunforce 82080 80...|      Automotive|          5|        152.0|      171.0|   Y|                N|Easy, No Sweat Se...|This Sunforce mot...| 2014-03-10|\n",
            "+-----------+-----------+--------------+----------+--------------+--------------------+----------------+-----------+-------------+-----------+----+-----------------+--------------------+--------------------+-----------+\n",
            "only showing top 20 rows\n",
            "\n"
          ]
        }
      ]
    },
    {
      "cell_type": "code",
      "source": [
        "yes_vine_df.count().count()"
      ],
      "metadata": {
        "colab": {
          "base_uri": "https://localhost:8080/"
        },
        "id": "kueHLetPaXZX",
        "outputId": "3d5a3feb-b3ed-4ae5-a4e7-c0877cd7dd9b"
      },
      "execution_count": 40,
      "outputs": [
        {
          "output_type": "execute_result",
          "data": {
            "text/plain": [
              "76"
            ]
          },
          "metadata": {},
          "execution_count": 40
        }
      ]
    },
    {
      "cell_type": "code",
      "source": [
        "yes_vine_5_df = yes_vine_df.filter(yes_vine_df[\"star_rating\"] == 5)\n",
        "yes_vine_5_df.count()"
      ],
      "metadata": {
        "colab": {
          "base_uri": "https://localhost:8080/"
        },
        "id": "xsuBrQ4sagI0",
        "outputId": "7439abec-9f38-4df4-ad12-83988920576c"
      },
      "execution_count": 46,
      "outputs": [
        {
          "output_type": "execute_result",
          "data": {
            "text/plain": [
              "30"
            ]
          },
          "metadata": {},
          "execution_count": 46
        }
      ]
    },
    {
      "cell_type": "code",
      "source": [
        "no_vine_df = filtered_df.filter(filtered_df[\"vine\"] == \"N\")\n",
        "no_vine_df.show()"
      ],
      "metadata": {
        "colab": {
          "base_uri": "https://localhost:8080/"
        },
        "id": "r9N8Up79ZdWG",
        "outputId": "db5b5e1b-f2e7-474c-f6b5-fa0f7b0d3d57"
      },
      "execution_count": 39,
      "outputs": [
        {
          "output_type": "stream",
          "name": "stdout",
          "text": [
            "+-----------+-----------+--------------+----------+--------------+--------------------+----------------+-----------+-------------+-----------+----+-----------------+--------------------+--------------------+-----------+\n",
            "|marketplace|customer_id|     review_id|product_id|product_parent|       product_title|product_category|star_rating|helpful_votes|total_votes|vine|verified_purchase|     review_headline|         review_body|review_date|\n",
            "+-----------+-----------+--------------+----------+--------------+--------------------+----------------+-----------+-------------+-----------+----+-----------------+--------------------+--------------------+-----------+\n",
            "|         US|   21035025|R397VXR1GAK6C9|B00IS941D2|     373170065|EAG 07-17 Jeep Wr...|      Automotive|          5|         21.0|       21.0|   N|                Y|Awesome bumper. I...|Awesome bumper. I...| 2015-08-31|\n",
            "|         US|   11359139|R2H6KB9RHS17GA|B00VNBDWPK|     790984844|OPT7 Fluxbeam LED...|      Automotive|          3|         59.0|       69.0|   N|                Y|Great bulb with a...|These bulbs are g...| 2015-08-31|\n",
            "|         US|   43577705|R29UTZTOPUVRSV|B0101SLT5U|     735754927|Crystal Bling Car...|      Automotive|          5|         21.0|       21.0|   N|                Y|             LOVE IT|I absolutely LOVE...| 2015-08-31|\n",
            "|         US|   11599061| RY9FLUD8VG6XD|B009W85R4A|     415177022|Full Size Truck B...|      Automotive|          4|         27.0|       32.0|   N|                Y|Fits my 2000 Chev...|Fits my 2000 Chev...| 2015-08-31|\n",
            "|         US|   14562622|R3Q5NAY8BGAKHI|B000GQA8DC|     228692727|Rampage Jeep 3922...|      Automotive|          5|         34.0|       40.0|   N|                Y|          Five Stars|            Love it!| 2015-08-31|\n",
            "|         US|   52600055| RRVJ7TYDEK7EO|B002G3OG6S|     845275995|Bosch Aerotwin 33...|      Automotive|          5|         30.0|       30.0|   N|                Y|Is the the right ...|These wipers fit ...| 2015-08-31|\n",
            "|         US|   47664434|R1JNALJ77OULPH|B00G620ZVU|     838834695|Nilight Driving F...|      Automotive|          4|         57.0|       65.0|   N|                Y|So far so good, b...|These lights look...| 2015-08-31|\n",
            "|         US|   47900707|R2V9VX4YQ8TQ24|B00BD4YH24|     618386404|OxGord Flat Cloth...|      Automotive|          5|         33.0|       36.0|   N|                Y|          Five Stars|       They are nice| 2015-08-31|\n",
            "|         US|   47501591|R2UCJ0GANHZVA8|B00B5LMAVA|     567135917|Chevy Camaro Arti...|      Automotive|          5|         21.0|       21.0|   N|                Y|           Awesome !|After seeing posi...| 2015-08-31|\n",
            "|         US|    3910488| R8MJZ3925MBK0|B0002TDUW4|     729831922|Herculiner HCL1B8...|      Automotive|          5|         96.0|       98.0|   N|                Y|Excellent Bed Liner!|I am really impre...| 2015-08-31|\n",
            "|         US|   10194150|R378YNR0LMM3DP|B00QJRYMFC|     439690883|LELink Bluetooth ...|      Automotive|          2|         41.0|       47.0|   N|                Y|It Works Ok - But...|I read all the re...| 2015-08-31|\n",
            "|         US|    1772089|R2UIEYEJPJC9EM|B011DFTJTI|     774725118|PCC Motor DB40A 5...|      Automotive|          5|         64.0|       70.0|   N|                N|          Five Stars|It's comes assemb...| 2015-08-31|\n",
            "|         US|   19025823| RX2K8ERZ5BENR|B00FH8P1DG|     533775870|Tenviii 42\" Inch ...|      Automotive|          5|         52.0|       56.0|   N|                Y|At this price, I ...|I think I bought ...| 2015-08-31|\n",
            "|         US|   20612348|R34VOML4JURU4E|B00NHBYOA6|     615708329|Wagan (EL6224) 12...|      Automotive|          1|         34.0|       35.0|   N|                Y|Cooler fails with...|The cooler worked...| 2015-08-31|\n",
            "|         US|   43075752|R21FPJN76XM6J8|B00T62RK1U|     939339824|Auxbeam LED Light...|      Automotive|          3|         43.0|       52.0|   N|                Y|THESE ARE NOT AUX...|I bought these pa...| 2015-08-30|\n",
            "|         US|     121940|R1YMR7QJ7OR3DE|B00WFHYZE8|     441278164|Innovative Perfor...|      Automotive|          1|         21.0|       22.0|   N|                Y|I have had this p...|I have had this p...| 2015-08-30|\n",
            "|         US|   12028828|R104OMNNT1A7HJ|B0002LBGX2|      95530996|P21S Concours Car...|      Automotive|          5|         20.0|       24.0|   N|                Y|      Love This Wax!|it goes on so eas...| 2015-08-30|\n",
            "|         US|   45509857|R3UDL3YQDQ9O69|B004LEYIQ8|     449492475|Motul 007250 8100...|      Automotive|          5|         22.0|       23.0|   N|                Y|Great oil!  Less ...|I have a 2011 Aud...| 2015-08-30|\n",
            "|         US|   40009891| RZIKUWBLDQZWP|B00OPEFKBQ|     797882187|iJDMTOY (2) Even ...|      Automotive|          2|         27.0|       29.0|   N|                Y|Some LEDs failed ...|After installing ...| 2015-08-30|\n",
            "|         US|   23964011| R8X31B3X14N2V|B00IS93EW6|     175227683|E-Autogrilles 97-...|      Automotive|          1|         28.0|       45.0|   N|                Y|           beware...|These fenders are...| 2015-08-30|\n",
            "+-----------+-----------+--------------+----------+--------------+--------------------+----------------+-----------+-------------+-----------+----+-----------------+--------------------+--------------------+-----------+\n",
            "only showing top 20 rows\n",
            "\n"
          ]
        }
      ]
    },
    {
      "cell_type": "code",
      "source": [
        "no_vine_df.count()"
      ],
      "metadata": {
        "colab": {
          "base_uri": "https://localhost:8080/"
        },
        "id": "71Hq2V-Rb29r",
        "outputId": "fdd66e96-074b-494e-e27f-59439f853d1d"
      },
      "execution_count": 48,
      "outputs": [
        {
          "output_type": "execute_result",
          "data": {
            "text/plain": [
              "22972"
            ]
          },
          "metadata": {},
          "execution_count": 48
        }
      ]
    },
    {
      "cell_type": "code",
      "source": [
        "no_vine_5_df = no_vine_df.filter(yes_vine_df[\"star_rating\"] == 5)\n",
        "no_vine_5_df.count()"
      ],
      "metadata": {
        "colab": {
          "base_uri": "https://localhost:8080/"
        },
        "id": "Imte0xzVY_Z1",
        "outputId": "ee4e1cc6-855b-4893-db0d-8d1c6aa9cca6"
      },
      "execution_count": 47,
      "outputs": [
        {
          "output_type": "execute_result",
          "data": {
            "text/plain": [
              "11908"
            ]
          },
          "metadata": {},
          "execution_count": 47
        }
      ]
    }
  ]
}